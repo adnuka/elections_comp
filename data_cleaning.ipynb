{
 "cells": [
  {
   "cell_type": "code",
   "execution_count": null,
   "metadata": {},
   "outputs": [],
   "source": [
    "import pandas as pd\n",
    "import numpy as np\n",
    "import seaborn as sns\n",
    "import os"
   ]
  },
  {
   "cell_type": "code",
   "execution_count": null,
   "metadata": {},
   "outputs": [],
   "source": [
    "sec_15=pd.read_csv(f\"2015_electionResults_nov.csv\", index_col=False)\n",
    "sec_18=pd.read_csv(f\"2018_electionResults.csv\", index_col=False)\n",
    "sec_23=pd.read_csv(f\"2023_electionResults.csv\", index_col=False)"
   ]
  },
  {
   "cell_type": "code",
   "execution_count": null,
   "metadata": {},
   "outputs": [],
   "source": [
    "columns_to_keep = ['province', 'district_name', 'district_id',\n",
    "                'neighborhood_name', 'neighborhood_id']\n",
    "\n",
    "# Drop columns that are not in the specified list\n",
    "columns_to_drop = [col for col in sec_23.columns if col not in columns_to_keep]\n",
    "sec_23.drop(columns=columns_to_drop, inplace=True)\n",
    "sec_23.drop_duplicates(columns_to_keep, inplace=True)\n",
    "sec_23.to_csv('district_list.csv', encoding='utf-8')"
   ]
  }
 ],
 "metadata": {
  "language_info": {
   "name": "python"
  },
  "orig_nbformat": 4
 },
 "nbformat": 4,
 "nbformat_minor": 2
}
